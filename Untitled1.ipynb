{
 "cells": [
  {
   "cell_type": "code",
   "execution_count": null,
   "id": "55ef0fa5-2dca-4b18-af83-814a2c1e3316",
   "metadata": {},
   "outputs": [],
   "source": [
    "#import xml.etree.ElementTree as ET\n",
    "#import os\n",
    "\n",
    "## Directory containing your XML files\n",
    "#folder_path = '/Users/fadijemmali/Desktop/Tracker/data/images/train'\n",
    "\n",
    "## Labels to be replaced with 'person'\n",
    "#labels_to_replace = ['player', 'goalkeeper', 'referee']\n",
    "\n",
    "## Iterate over each file in the folder\n",
    "#for filename in os.listdir(folder_path):\n",
    "#    if filename.endswith('.xml'):\n",
    "#        # Construct the full file path\n",
    "#        xml_file_path = os.path.join(folder_path, filename)\n",
    "\n",
    "#        # Load the XML file\n",
    "#        tree = ET.parse(xml_file_path)\n",
    "#        root = tree.getroot()\n",
    "\n",
    "#        # Iterate over each object and update the label if it matches the criteria\n",
    "#        for object_tag in root.findall('.//object'):\n",
    "#            name_tag = object_tag.find('name')\n",
    "#            if name_tag is not None and name_tag.text in labels_to_replace:\n",
    "#                name_tag.text = 'person'\n",
    "\n",
    "#        # Save the changes back to the XML file\n",
    "#        tree.write(xml_file_path)\n",
    "\n",
    "#        print(f\"Updated labels in {xml_file_path}\")\n",
    "\n",
    "#print(\"All XML files have been updated.\")"
   ]
  },
  {
   "cell_type": "code",
   "execution_count": 4,
   "id": "6be5da69-f609-4586-b4dc-91574485ea40",
   "metadata": {},
   "outputs": [],
   "source": [
    "import os\n",
    "import xml.etree.ElementTree as ET\n",
    "\n",
    "def delete_invalid_files(directory):\n",
    "    for filename in os.listdir(directory):\n",
    "        if not filename.endswith('.xml'):\n",
    "            continue\n",
    "\n",
    "        xml_path = os.path.join(directory, filename)\n",
    "        tree = ET.parse(xml_path)\n",
    "        root = tree.getroot()\n",
    "\n",
    "        # Get image size from XML\n",
    "        size = root.find('size')\n",
    "        width = int(size.find('width').text)\n",
    "        height = int(size.find('height').text)\n",
    "\n",
    "        # Assume the file is valid until proven otherwise\n",
    "        file_valid = True\n",
    "\n",
    "        # Check each object's bounding box\n",
    "        for obj in root.iter('object'):\n",
    "            bndbox = obj.find('bndbox')\n",
    "            xmin = int(bndbox.find('xmin').text)\n",
    "            ymin = int(bndbox.find('ymin').text)\n",
    "            xmax = int(bndbox.find('xmax').text)\n",
    "            ymax = int(bndbox.find('ymax').text)\n",
    "\n",
    "            if (xmin < 0 or ymin < 0 or xmax > width or ymax > height or\n",
    "                xmax < xmin or ymax < ymin):\n",
    "                file_valid = False\n",
    "                break\n",
    "\n",
    "        if not file_valid:\n",
    "            # Delete the XML file\n",
    "            os.remove(xml_path)\n",
    "            print(f\"Deleted XML: {xml_path}\")\n",
    "\n",
    "            # Construct image file name from XML file name\n",
    "            image_file_base = filename[:-4]  # remove the '.xml' extension\n",
    "            for ext in ['.png', '.jpg', '.jpeg']:\n",
    "                image_path = os.path.join(directory, image_file_base + ext)\n",
    "                if os.path.exists(image_path):\n",
    "                    # Delete the image file\n",
    "                    os.remove(image_path)\n",
    "                    print(f\"Deleted image: {image_path}\")\n",
    "                    break\n",
    "\n",
    "# Call the function with your directory of XML files\n",
    "delete_invalid_files('/Users/fadijemmali/Desktop/Tracker/Tensorflow/workspace/images/train')"
   ]
  },
  {
   "cell_type": "code",
   "execution_count": 6,
   "id": "12aaf209-5b48-49a6-86b7-78644fae9cce",
   "metadata": {},
   "outputs": [],
   "source": [
    "def remove_occluded_from_xml(directory):\n",
    "    # Iterate over each file in the directory\n",
    "    for filename in os.listdir(directory):\n",
    "        if filename.endswith('.xml'):\n",
    "            file_path = os.path.join(directory, filename)\n",
    "            tree = ET.parse(file_path)\n",
    "            root = tree.getroot()\n",
    "\n",
    "            # Iterate over each object and remove the 'occluded' tag\n",
    "            for object_ in root.findall('object'):\n",
    "                occluded = object_.find('occluded')\n",
    "                if occluded is not None:\n",
    "                    object_.remove(occluded)\n",
    "\n",
    "            # Write the changes back to the same XML file\n",
    "            tree.write(file_path)\n",
    "\n",
    "# Example usage:\n",
    "xml_dir = '/Users/fadijemmali/Desktop/Tracker/Tensorflow/workspace/images/train'\n",
    "\n",
    "# Process the XML files\n",
    "remove_occluded_from_xml(xml_dir)"
   ]
  },
  {
   "cell_type": "code",
   "execution_count": 7,
   "id": "01e17813-f9aa-4777-9e6b-338f8cc40c25",
   "metadata": {},
   "outputs": [],
   "source": [
    "TRAIN_PATH = os.path.join('Tensorflow', 'workspace', 'images', 'train')\n",
    "TEST_PATH = os.path.join('Tensorflow', 'workspace', 'images', 'test')\n",
    "ARCHIVE_PATH = os.path.join('Tensorflow', 'workspace', 'images', 'archive3.tar.gz')\n",
    "!tar -czf {ARCHIVE_PATH} {TRAIN_PATH} {TEST_PATH}"
   ]
  },
  {
   "cell_type": "code",
   "execution_count": 9,
   "id": "d906209f-22ff-4755-a7a0-ae027d5b5109",
   "metadata": {},
   "outputs": [
    {
     "name": "stdout",
     "output_type": "stream",
     "text": [
      "{'ball', 'player', 'referee', 'goalkeeper'}\n"
     ]
    }
   ],
   "source": [
    "import xml.etree.ElementTree as ET\n",
    "import os\n",
    "\n",
    "def get_unique_labels_from_xml(directory):\n",
    "    unique_labels = set()\n",
    "\n",
    "    for filename in os.listdir(directory):\n",
    "        if filename.endswith('.xml'):\n",
    "            path = os.path.join(directory, filename)\n",
    "            tree = ET.parse(path)\n",
    "            root = tree.getroot()\n",
    "\n",
    "            for obj in root.iter('object'):\n",
    "                label = obj.find('name').text\n",
    "                unique_labels.add(label)\n",
    "\n",
    "    return unique_labels\n",
    "\n",
    "# Replace this with the path to your directory containing XML files\n",
    "directory_path = '/Users/fadijemmali/Desktop/Tracker/Tensorflow/workspace/images/test'\n",
    "\n",
    "# Extract unique labels\n",
    "labels = get_unique_labels_from_xml(directory_path)\n",
    "\n",
    "# Print the unique labels\n",
    "print(labels)\n"
   ]
  },
  {
   "cell_type": "code",
   "execution_count": 11,
   "id": "e47d8803-b743-470b-9006-1c4a9050e5aa",
   "metadata": {},
   "outputs": [
    {
     "name": "stdout",
     "output_type": "stream",
     "text": [
      "Number of frames in the video: 750\n"
     ]
    }
   ],
   "source": [
    "import cv2\n",
    "\n",
    "def get_frame_count(video_path):\n",
    "    # Open the video file\n",
    "    cap = cv2.VideoCapture(video_path)\n",
    "\n",
    "    # Check if video opened successfully\n",
    "    if not cap.isOpened():\n",
    "        print(\"Error opening video file\")\n",
    "        return -1\n",
    "\n",
    "    # Get the total number of frames in the video\n",
    "    frame_count = int(cap.get(cv2.CAP_PROP_FRAME_COUNT))\n",
    "\n",
    "    # Close the video file\n",
    "    cap.release()\n",
    "\n",
    "    return frame_count\n",
    "\n",
    "# Replace this with your video file path\n",
    "video_file_path = './data/video/red_white.mp4'\n",
    "\n",
    "# Get and print the number of frames\n",
    "num_frames = get_frame_count(video_file_path)\n",
    "print(f\"Number of frames in the video: {num_frames}\")\n"
   ]
  },
  {
   "cell_type": "code",
   "execution_count": 15,
   "id": "7d009844-5ea6-4904-9b0a-8bd0b17208e7",
   "metadata": {},
   "outputs": [
    {
     "name": "stderr",
     "output_type": "stream",
     "text": [
      "Using cache found in /Users/fadijemmali/.cache/torch/hub/ultralytics_yolov5_master\n",
      "YOLOv5 🚀 2023-12-25 Python-3.9.18 torch-2.1.2 CPU\n",
      "\n",
      "Fusing layers... \n",
      "Model summary: 416 layers, 139999708 parameters, 0 gradients, 207.9 GFLOPs\n",
      "Adding AutoShape... \n"
     ]
    }
   ],
   "source": [
    "import torch\n",
    "\n",
    "WEIGHTS_PATH = \"best.pt\"\n",
    "\n",
    "# Load the model onto the CPU\n",
    "model = torch.hub.load('ultralytics/yolov5', 'custom', WEIGHTS_PATH, device='cpu')"
   ]
  },
  {
   "cell_type": "code",
   "execution_count": 21,
   "id": "8bd712cd-5eb3-4255-8191-f55adfb8137d",
   "metadata": {},
   "outputs": [
    {
     "data": {
      "text/plain": [
       "{0: 'ball', 1: 'goalkeeper', 2: 'player', 3: 'referee'}"
      ]
     },
     "execution_count": 21,
     "metadata": {},
     "output_type": "execute_result"
    }
   ],
   "source": [
    "model.names"
   ]
  },
  {
   "cell_type": "code",
   "execution_count": 16,
   "id": "8612642b-57ce-4e76-83c9-0aa6ee9105f0",
   "metadata": {},
   "outputs": [],
   "source": [
    "vid = cv2.VideoCapture('./data/video/red_white.mp4')\n",
    "while True:\n",
    "    _, img = vid.read()\n",
    "    if img is None:\n",
    "        print('Completed')\n",
    "        break\n",
    "    res= model(img, size=1280)\n",
    "    break"
   ]
  },
  {
   "cell_type": "code",
   "execution_count": 29,
   "id": "d651f5e4-be87-47f1-a0b7-c89021d32ba2",
   "metadata": {},
   "outputs": [
    {
     "name": "stdout",
     "output_type": "stream",
     "text": [
      "Class: referee, Box: [     1835.5      885.56        1876       987.6], Score: 0.9713446497917175\n",
      "Class: player, Box: [     1142.5      647.03      1181.9      726.65], Score: 0.969940721988678\n",
      "Class: player, Box: [     292.81      671.99       332.7      756.96], Score: 0.9675132632255554\n",
      "Class: player, Box: [     1223.8      455.91        1257      500.59], Score: 0.961682140827179\n",
      "Class: player, Box: [     396.24      576.99      424.47      653.25], Score: 0.9533394575119019\n",
      "Class: player, Box: [     1363.6      457.32      1395.9      512.87], Score: 0.9531461596488953\n",
      "Class: player, Box: [     1350.8      369.95      1379.2      420.02], Score: 0.9517560601234436\n",
      "Class: referee, Box: [     1083.7      504.64      1108.5      574.61], Score: 0.950607419013977\n",
      "Class: player, Box: [     1479.7      414.19      1506.1      475.51], Score: 0.9502685070037842\n",
      "Class: player, Box: [     586.94      394.92      612.13      448.31], Score: 0.9488096237182617\n",
      "Class: player, Box: [     648.88      365.35      677.34       412.7], Score: 0.9485086798667908\n",
      "Class: player, Box: [       1531      520.07      1553.2      586.68], Score: 0.9483577013015747\n",
      "Class: player, Box: [     1449.4       409.1      1470.3      465.34], Score: 0.9477050304412842\n",
      "Class: player, Box: [     1133.2      438.16      1156.7      493.57], Score: 0.9462503790855408\n",
      "Class: player, Box: [     585.95         460      610.02      527.74], Score: 0.9455779790878296\n",
      "Class: player, Box: [     1155.9      441.21      1176.7      493.28], Score: 0.945532500743866\n",
      "Class: player, Box: [     714.21      368.04      736.99      418.05], Score: 0.9433901309967041\n",
      "Class: player, Box: [     554.65      487.77      579.71      548.59], Score: 0.940521776676178\n",
      "Class: player, Box: [     556.32      446.27      581.81      496.67], Score: 0.9358537197113037\n",
      "Class: player, Box: [     857.74      422.58      877.94      479.06], Score: 0.9317549467086792\n",
      "Class: player, Box: [     921.62       398.3      946.22      451.79], Score: 0.9317081570625305\n",
      "Class: referee, Box: [     692.75      282.29      711.03      320.78], Score: 0.9028045535087585\n",
      "Class: player, Box: [     842.41      430.75      861.16      487.72], Score: 0.8928007483482361\n"
     ]
    }
   ],
   "source": [
    "# Extract detections\n",
    "detections = res.pred[0]\n",
    "\n",
    "# Extract bounding boxes, scores, and class IDs\n",
    "boxes = detections[:, :4].numpy()  # x_center, y_center, width, height\n",
    "scores = detections[:, 4].numpy()\n",
    "class_ids = detections[:, 5].int().numpy()\n",
    "\n",
    "# Convert class IDs to class names\n",
    "class_names = [model.names[i] for i in class_ids]\n",
    "\n",
    "# Print results"
   ]
  },
  {
   "cell_type": "code",
   "execution_count": null,
   "id": "1edf9c7c-baed-485d-8f54-d7fd83850cb9",
   "metadata": {},
   "outputs": [],
   "source": []
  }
 ],
 "metadata": {
  "kernelspec": {
   "display_name": "myenv",
   "language": "python",
   "name": "myenv"
  },
  "language_info": {
   "codemirror_mode": {
    "name": "ipython",
    "version": 3
   },
   "file_extension": ".py",
   "mimetype": "text/x-python",
   "name": "python",
   "nbconvert_exporter": "python",
   "pygments_lexer": "ipython3",
   "version": "3.9.18"
  }
 },
 "nbformat": 4,
 "nbformat_minor": 5
}
